{
 "cells": [
  {
   "cell_type": "markdown",
   "metadata": {},
   "source": [
    "Theory:\n",
    "- https://www.grammarly.com/blog/engineering/under-the-hood-at-grammarly-leveraging-transformer-language-models-for-grammatical-error-correction/\n",
    "- https://www.grammarly.com/blog/engineering/understanding-conversational-sequences-with-ai/\n",
    "\n",
    "\n",
    "Reference:\n",
    "- https://habr.com/ru/company/mipt/blog/462989/ - explains shortly the corresponding pros and cons of BERT (ru).\n",
    "- https://docs.deeppavlov.ai/en/master/features/models/bert.html#using-custom-bert-in-deeppavlov - docs about BERT in DeepPavlov, examples of model pretrained on russian language, etc. (ru).\n",
    "- https://www.youtube.com/watch?v=S-CspeZ8FHc&list=PLoROMvodv4rOhcuXMZkNm7j3fVwBBY42z&index=13 - The most detailed lecture i've seen about history of preceded models before transformers/architectures/*name * it and overall statistics about NLP at all.\n",
    "- https://www.youtube.com/watch?v=5vcj8kSwBCY&list=PLoROMvodv4rOhcuXMZkNm7j3fVwBBY42z&index=14 - lecture from author of transformers.\n",
    "- https://blog.scaleway.com/2019/building-a-machine-reading-comprehension-system-using-the-latest-advances-in-deep-learning-for-nlp/ - comprehensive intro to transformets, it's history, pros/cons.\n",
    "- https://blog.scaleway.com/2019/understanding-text-with-bert/\n",
    "- http://jalammar.github.io/illustrated-bert/\n",
    "- https://towardsdatascience.com/how-bert-leverage-attention-mechanism-and-transformer-to-learn-word-contextual-relations-5bbee1b6dbdb\n",
    "\n",
    "Tutorials:\n",
    "- https://towardsdatascience.com/bert-for-dummies-step-by-step-tutorial-fb90890ffe03\n",
    "- https://medium.com/swlh/a-simple-guide-on-using-bert-for-text-classification-bbf041ac8d04\n",
    "- https://www.analyticsvidhya.com/blog/2019/09/demystifying-bert-groundbreaking-nlp-framework/\n",
    "\n",
    "**Top Materials:**\n",
    "- https://mccormickml.com/2020/03/10/question-answering-with-a-fine-tuned-BERT/\n",
    "\n",
    "Simple:\n",
    "- https://peltarion.com/knowledge-center/documentation/tutorials/movie-review-feelings"
   ]
  },
  {
   "cell_type": "markdown",
   "metadata": {},
   "source": [
    "-----"
   ]
  },
  {
   "cell_type": "markdown",
   "metadata": {},
   "source": [
    "### Experiments\n",
    "\n",
    "- https://colab.research.google.com/drive/1GZrgIHptfk49Wm-gjixmv-BtG9bOseKt?usp=sharing - There are information related to transformers, generally the top-down approach presented."
   ]
  },
  {
   "cell_type": "code",
   "execution_count": null,
   "metadata": {},
   "outputs": [],
   "source": []
  }
 ],
 "metadata": {
  "kernelspec": {
   "display_name": "Python 3",
   "language": "python",
   "name": "python3"
  },
  "language_info": {
   "codemirror_mode": {
    "name": "ipython",
    "version": 3
   },
   "file_extension": ".py",
   "mimetype": "text/x-python",
   "name": "python",
   "nbconvert_exporter": "python",
   "pygments_lexer": "ipython3",
   "version": "3.6.4"
  }
 },
 "nbformat": 4,
 "nbformat_minor": 2
}
